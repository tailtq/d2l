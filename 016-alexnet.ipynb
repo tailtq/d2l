{
 "cells": [
  {
   "cell_type": "code",
   "execution_count": 29,
   "metadata": {},
   "outputs": [],
   "source": [
    "import torch\n",
    "import torchvision\n",
    "import numpy as np\n",
    "import torch.nn as nn"
   ]
  },
  {
   "cell_type": "code",
   "execution_count": 15,
   "metadata": {},
   "outputs": [],
   "source": [
    "net = nn.Sequential(\n",
    "    nn.Conv2d(1, 96, kernel_size=11, stride=4),  # 54\n",
    "    nn.ReLU(),\n",
    "    nn.MaxPool2d(kernel_size=3, stride=2),      # 26\n",
    "\n",
    "    nn.Conv2d(96, 256, kernel_size=5, padding=2), # 26\n",
    "    nn.ReLU(),\n",
    "    nn.MaxPool2d(kernel_size=3, stride=2), # 12\n",
    "\n",
    "    nn.Conv2d(256, 384, kernel_size=3, padding=1), # 12\n",
    "    nn.ReLU(),\n",
    "    nn.Conv2d(384, 384, kernel_size=3, padding=1), # 12\n",
    "    nn.ReLU(),\n",
    "    nn.Conv2d(384, 256, kernel_size=3, padding=1), # 12\n",
    "    nn.ReLU(),\n",
    "    nn.MaxPool2d(kernel_size=3, stride=2), # 5\n",
    "    \n",
    "    nn.Flatten(),\n",
    "    \n",
    "    nn.Linear(5 * 5 * 256, 4096),\n",
    "    nn.ReLU(),\n",
    "    nn.Dropout(0.5),\n",
    "    \n",
    "    nn.Linear(4096, 4096),\n",
    "    nn.ReLU(),\n",
    "    nn.Dropout(0.5),\n",
    "    \n",
    "    nn.Linear(4096, 10)\n",
    ")"
   ]
  },
  {
   "cell_type": "code",
   "execution_count": 27,
   "metadata": {},
   "outputs": [],
   "source": [
    "X = torch.rand(1, 1, 224, 224)"
   ]
  },
  {
   "cell_type": "code",
   "execution_count": 28,
   "metadata": {},
   "outputs": [
    {
     "name": "stdout",
     "output_type": "stream",
     "text": [
      "Conv2d(1, 96, kernel_size=(11, 11), stride=(4, 4))\n",
      "output shape: \t torch.Size([1, 96, 54, 54])\n",
      "==============================\n",
      "ReLU()\n",
      "output shape: \t torch.Size([1, 96, 54, 54])\n",
      "==============================\n",
      "MaxPool2d(kernel_size=3, stride=2, padding=0, dilation=1, ceil_mode=False)\n",
      "output shape: \t torch.Size([1, 96, 26, 26])\n",
      "==============================\n",
      "Conv2d(96, 256, kernel_size=(5, 5), stride=(1, 1), padding=(2, 2))\n",
      "output shape: \t torch.Size([1, 256, 26, 26])\n",
      "==============================\n",
      "ReLU()\n",
      "output shape: \t torch.Size([1, 256, 26, 26])\n",
      "==============================\n",
      "MaxPool2d(kernel_size=3, stride=2, padding=0, dilation=1, ceil_mode=False)\n",
      "output shape: \t torch.Size([1, 256, 12, 12])\n",
      "==============================\n",
      "Conv2d(256, 384, kernel_size=(3, 3), stride=(1, 1), padding=(1, 1))\n",
      "output shape: \t torch.Size([1, 384, 12, 12])\n",
      "==============================\n",
      "ReLU()\n",
      "output shape: \t torch.Size([1, 384, 12, 12])\n",
      "==============================\n",
      "Conv2d(384, 384, kernel_size=(3, 3), stride=(1, 1), padding=(1, 1))\n",
      "output shape: \t torch.Size([1, 384, 12, 12])\n",
      "==============================\n",
      "ReLU()\n",
      "output shape: \t torch.Size([1, 384, 12, 12])\n",
      "==============================\n",
      "Conv2d(384, 256, kernel_size=(3, 3), stride=(1, 1), padding=(1, 1))\n",
      "output shape: \t torch.Size([1, 256, 12, 12])\n",
      "==============================\n",
      "ReLU()\n",
      "output shape: \t torch.Size([1, 256, 12, 12])\n",
      "==============================\n",
      "MaxPool2d(kernel_size=3, stride=2, padding=0, dilation=1, ceil_mode=False)\n",
      "output shape: \t torch.Size([1, 256, 5, 5])\n",
      "==============================\n",
      "Flatten(start_dim=1, end_dim=-1)\n",
      "output shape: \t torch.Size([1, 6400])\n",
      "==============================\n",
      "Linear(in_features=6400, out_features=4096, bias=True)\n",
      "output shape: \t torch.Size([1, 4096])\n",
      "==============================\n",
      "ReLU()\n",
      "output shape: \t torch.Size([1, 4096])\n",
      "==============================\n",
      "Dropout(p=0.5, inplace=False)\n",
      "output shape: \t torch.Size([1, 4096])\n",
      "==============================\n",
      "Linear(in_features=4096, out_features=4096, bias=True)\n",
      "output shape: \t torch.Size([1, 4096])\n",
      "==============================\n",
      "ReLU()\n",
      "output shape: \t torch.Size([1, 4096])\n",
      "==============================\n",
      "Dropout(p=0.5, inplace=False)\n",
      "output shape: \t torch.Size([1, 4096])\n",
      "==============================\n",
      "Linear(in_features=4096, out_features=10, bias=True)\n",
      "output shape: \t torch.Size([1, 10])\n",
      "==============================\n"
     ]
    }
   ],
   "source": [
    "for layer in net:\n",
    "    X = layer(X)\n",
    "    print(layer)\n",
    "    print(\"output shape: \\t\", X.shape)\n",
    "    print(\"===\" * 10)"
   ]
  },
  {
   "cell_type": "code",
   "execution_count": 35,
   "metadata": {},
   "outputs": [],
   "source": [
    "import torchvision.transforms as transforms\n",
    "import torch.optim as optim"
   ]
  },
  {
   "cell_type": "code",
   "execution_count": null,
   "metadata": {},
   "outputs": [],
   "source": [
    "device = torch.device(\"cuda:0\")\n",
    "net.to(device)"
   ]
  },
  {
   "cell_type": "code",
   "execution_count": 70,
   "metadata": {},
   "outputs": [],
   "source": [
    "batch_size = 128\n",
    "transform = transforms.Compose([\n",
    "    transforms.Resize((224, 224)),\n",
    "    transforms.ToTensor()\n",
    "])\n",
    "\n",
    "trainset = torchvision.datasets.FashionMNIST(\"dataset/fashion-mnist\",\n",
    "                                            transform=transform,\n",
    "                                            train=True,\n",
    "                                            download=True)\n",
    "trainset_loader = torch.utils.data.DataLoader(dataset,\n",
    "                                              batch_size=batch_size,\n",
    "                                              shuffle=True,\n",
    "                                              num_workers=4)\n",
    "\n",
    "testset = torchvision.datasets.FashionMNIST(\"dataset/fashion-mnist\",\n",
    "                                            transform=transform,\n",
    "                                            train=False,\n",
    "                                            download=True)\n",
    "testset_loader = torch.utils.data.DataLoader(dataset,\n",
    "                                             batch_size=batch_size,\n",
    "                                             shuffle=False,\n",
    "                                             num_workers=2)"
   ]
  },
  {
   "cell_type": "code",
   "execution_count": 51,
   "metadata": {},
   "outputs": [],
   "source": [
    "criterion = nn.CrossEntropyLoss()\n",
    "optimizer = optim.SGD(net.parameters(), lr=0.001, momentum=0.9)"
   ]
  },
  {
   "cell_type": "code",
   "execution_count": 52,
   "metadata": {},
   "outputs": [
    {
     "name": "stdout",
     "output_type": "stream",
     "text": [
      "Epoch 1\n",
      "Epoch 2\n",
      "Epoch 3\n",
      "Epoch 4\n",
      "Epoch 5\n",
      "Epoch 6\n",
      "Epoch 7\n",
      "Epoch 8\n",
      "Epoch 9\n",
      "Epoch 10\n",
      "Finished Training\n"
     ]
    }
   ],
   "source": [
    "for epoch in range(10):\n",
    "    print(f\"Epoch {epoch + 1}\")\n",
    "    running_loss = 0.0\n",
    "    \n",
    "    for i, data in enumerate(trainset_loader, 0):\n",
    "        inputs, labels = data\n",
    "        inputs = inputs.to(device)\n",
    "        labels = labels.to(device)\n",
    "        \n",
    "        optimizer.zero_grad()\n",
    "        \n",
    "        outputs = net(inputs)\n",
    "        loss = criterion(outputs, labels)\n",
    "        loss.backward()\n",
    "        optimizer.step()\n",
    "        \n",
    "        running_loss += loss.item()\n",
    "        \n",
    "        if i % 2000 == 1999:\n",
    "            print(\"[%d, %5d] loss: %.3f\" % (epoch + 1, i + 1, running_loss / 2000))\n",
    "            running_loss = 0.0\n",
    "\n",
    "print(\"Finished Training\")"
   ]
  },
  {
   "cell_type": "code",
   "execution_count": 72,
   "metadata": {},
   "outputs": [
    {
     "name": "stdout",
     "output_type": "stream",
     "text": [
      "Correct percentage: 83.75166666666667%\n"
     ]
    }
   ],
   "source": [
    "total_predictions = 0\n",
    "total_correct = 0\n",
    "\n",
    "for data in testset_loader:\n",
    "    inputs, labels = data\n",
    "    inputs = inputs.to(device)\n",
    "    labels = labels.to(device)\n",
    "    \n",
    "    outputs = torch.argmax(net(inputs), dim=1)\n",
    "    check = (outputs - labels) == 0\n",
    "    \n",
    "    total_correct += len(check[check == True])\n",
    "    total_predictions += len(check)\n",
    "\n",
    "print(f\"Correct percentage: {total_correct / total_predictions * 100}%\")"
   ]
  },
  {
   "cell_type": "code",
   "execution_count": null,
   "metadata": {},
   "outputs": [],
   "source": []
  }
 ],
 "metadata": {
  "kernelspec": {
   "display_name": "Python 3",
   "language": "python",
   "name": "python3"
  },
  "language_info": {
   "codemirror_mode": {
    "name": "ipython",
    "version": 3
   },
   "file_extension": ".py",
   "mimetype": "text/x-python",
   "name": "python",
   "nbconvert_exporter": "python",
   "pygments_lexer": "ipython3",
   "version": "3.7.6"
  }
 },
 "nbformat": 4,
 "nbformat_minor": 4
}
