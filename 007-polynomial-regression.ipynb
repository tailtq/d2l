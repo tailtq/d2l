{
 "cells": [
  {
   "cell_type": "code",
   "execution_count": 1,
   "metadata": {},
   "outputs": [],
   "source": [
    "from d2l import mxnet as d2l\n",
    "from mxnet import gluon, np, npx\n",
    "from mxnet.gluon import nn\n",
    "import math\n",
    "npx.set_np()"
   ]
  },
  {
   "cell_type": "code",
   "execution_count": 8,
   "metadata": {},
   "outputs": [],
   "source": [
    "max_degree = 20\n",
    "n_train, n_test = 100, 100\n",
    "true_w = np.zeros(max_degree)\n",
    "true_w[0:4] = np.array([5, 1.2, -3.4, 5.6])\n",
    "\n",
    "features = np.random.normal(size=(n_train + n_test, 1))\n",
    "np.random.shuffle(features)\n",
    "poly_features = np.power(features, np.arange(max_degree).reshape(1, -1))\n",
    "for i in range(max_degree):\n",
    "    poly_features[:, i] /= math.gamma(i + 1)\n",
    "labels = np.dot(poly_features, true_w)\n",
    "labels += np.random.normal(scale=0.1, size=labels.shape)"
   ]
  },
  {
   "cell_type": "code",
   "execution_count": 9,
   "metadata": {},
   "outputs": [
    {
     "data": {
      "text/plain": [
       "((200, 20), (200, 1), (200,))"
      ]
     },
     "execution_count": 9,
     "metadata": {},
     "output_type": "execute_result"
    }
   ],
   "source": [
    "poly_features.shape, features.shape, labels.shape"
   ]
  },
  {
   "cell_type": "code",
   "execution_count": 12,
   "metadata": {},
   "outputs": [
    {
     "data": {
      "text/plain": [
       "(array([[1.032016 ],\n",
       "        [1.0443201]]),\n",
       " array([[1.0000000e+00, 1.0320160e+00, 5.3252858e-01, 1.8319267e-01,\n",
       "         4.7264442e-02, 9.7555332e-03, 1.6779777e-03, 2.4738570e-04,\n",
       "         3.1913252e-05, 3.6594431e-06, 3.7766040e-07, 3.5431960e-08,\n",
       "         3.0471961e-09, 2.4190425e-10, 1.7832076e-11, 1.2268658e-12,\n",
       "         7.9134073e-14, 4.8039791e-15, 2.7543240e-16, 1.4960561e-17],\n",
       "        [1.0000000e+00, 1.0443201e+00, 5.4530227e-01, 1.8982337e-01,\n",
       "         4.9559090e-02, 1.0351110e-02, 1.8016454e-03, 2.6878493e-04,\n",
       "         3.5087192e-05, 4.0713621e-06, 4.2518053e-07, 4.0365872e-08,\n",
       "         3.5129075e-09, 2.8219999e-10, 2.1050509e-11, 1.4655646e-12,\n",
       "         9.5657416e-14, 5.8762923e-15, 3.4092944e-16, 1.8738918e-17]]),\n",
       " array([5.3473606, 5.396351 ]))"
      ]
     },
     "execution_count": 12,
     "metadata": {},
     "output_type": "execute_result"
    }
   ],
   "source": [
    "features[:2], poly_features[:2, :], labels[:2]"
   ]
  },
  {
   "cell_type": "code",
   "execution_count": null,
   "metadata": {},
   "outputs": [],
   "source": []
  }
 ],
 "metadata": {
  "kernelspec": {
   "display_name": "Python 3",
   "language": "python",
   "name": "python3"
  },
  "language_info": {
   "codemirror_mode": {
    "name": "ipython",
    "version": 3
   },
   "file_extension": ".py",
   "mimetype": "text/x-python",
   "name": "python",
   "nbconvert_exporter": "python",
   "pygments_lexer": "ipython3",
   "version": "3.6.12"
  }
 },
 "nbformat": 4,
 "nbformat_minor": 4
}
